{
 "metadata": {
  "language_info": {
   "codemirror_mode": {
    "name": "ipython",
    "version": 3
   },
   "file_extension": ".py",
   "mimetype": "text/x-python",
   "name": "python",
   "nbconvert_exporter": "python",
   "pygments_lexer": "ipython3",
   "version": "3.8.10"
  },
  "orig_nbformat": 4,
  "kernelspec": {
   "name": "python3",
   "display_name": "Python 3.8.10 64-bit"
  },
  "interpreter": {
   "hash": "31f2aee4e71d21fbe5cf8b01ff0e069b9275f58929596ceb00d14d90e3e16cd6"
  }
 },
 "nbformat": 4,
 "nbformat_minor": 2,
 "cells": [
  {
   "cell_type": "code",
   "execution_count": 1,
   "metadata": {},
   "outputs": [
    {
     "output_type": "stream",
     "name": "stdout",
     "text": [
      "/home/doogyb/Projects/doogy-does-countdown/frontend\n"
     ]
    }
   ],
   "source": [
    "currdir = %pwd\n",
    "if currdir.split('/')[-1] == 'notebooks':\n",
    "    %cd .."
   ]
  },
  {
   "cell_type": "code",
   "execution_count": 2,
   "metadata": {},
   "outputs": [],
   "source": [
    "with open('assets/data/count_1w.txt') as f:\n",
    "    lines = f.read().strip().split('\\n')\n",
    "    counts = {line.split()[0]: int(line.split()[1]) for line in lines}"
   ]
  },
  {
   "cell_type": "code",
   "execution_count": 3,
   "metadata": {},
   "outputs": [
    {
     "output_type": "execute_result",
     "data": {
      "text/plain": [
       "61704297"
      ]
     },
     "metadata": {},
     "execution_count": 3
    }
   ],
   "source": [
    "counts['master']"
   ]
  },
  {
   "cell_type": "code",
   "execution_count": 4,
   "metadata": {},
   "outputs": [
    {
     "output_type": "stream",
     "name": "stdout",
     "text": [
      "Total strings: 333333\n"
     ]
    }
   ],
   "source": [
    "print(f\"Total strings: {len(counts)}\")"
   ]
  },
  {
   "cell_type": "code",
   "execution_count": 5,
   "metadata": {},
   "outputs": [
    {
     "output_type": "stream",
     "name": "stdout",
     "text": [
      "Total strings: 219088\n"
     ]
    }
   ],
   "source": [
    "# Remove strings either less than length 5 or greater than length 9\n",
    "counts = {w: c for w, c in counts.items() if 5 <= len(w) <= 9}\n",
    "print(f\"Total strings: {len(counts)}\")"
   ]
  },
  {
   "cell_type": "code",
   "execution_count": 10,
   "metadata": {},
   "outputs": [],
   "source": [
    "# cross reference with unix british english to remove esoteric and non-english words\n",
    "with open(\"assets/data/british-english.txt\") as f:\n",
    "    english = f.read().strip().split('\\n')\n",
    "english = set([w.lower() for w in english])"
   ]
  },
  {
   "cell_type": "code",
   "execution_count": 14,
   "metadata": {},
   "outputs": [
    {
     "output_type": "stream",
     "name": "stdout",
     "text": [
      "Total strings: 41348\n"
     ]
    }
   ],
   "source": [
    "counts = {w: c for w, c in counts.items() if w in english}\n",
    "print(f\"Total strings: {len(counts)}\")"
   ]
  },
  {
   "cell_type": "code",
   "execution_count": 15,
   "metadata": {},
   "outputs": [],
   "source": [
    "import json\n",
    "with open(\"assets/data/word_frequencies.json\", 'w') as f:\n",
    "    json.dump(counts, f, indent=4)"
   ]
  },
  {
   "cell_type": "code",
   "execution_count": null,
   "metadata": {},
   "outputs": [],
   "source": []
  }
 ]
}